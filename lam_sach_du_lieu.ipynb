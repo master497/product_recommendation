{
 "cells": [
  {
   "cell_type": "markdown",
   "metadata": {},
   "source": [
    "### Làm Sạch Dữ Liệu"
   ]
  },
  {
   "cell_type": "code",
   "execution_count": 39,
   "metadata": {},
   "outputs": [],
   "source": [
    "import numpy as np\n",
    "import pandas as pd\n",
    "import matplotlib.pyplot as plt\n",
    "import warnings\n",
    "import re\n",
    "from helper.text_helper import *\n",
    "warnings.filterwarnings(\"ignore\")"
   ]
  },
  {
   "cell_type": "markdown",
   "metadata": {},
   "source": [
    "#### Với tập dữ liệu cho sẵn"
   ]
  },
  {
   "cell_type": "code",
   "execution_count": 40,
   "metadata": {},
   "outputs": [
    {
     "name": "stdout",
     "output_type": "stream",
     "text": [
      "(21575, 7)\n"
     ]
    },
    {
     "data": {
      "text/html": [
       "<div>\n",
       "<style scoped>\n",
       "    .dataframe tbody tr th:only-of-type {\n",
       "        vertical-align: middle;\n",
       "    }\n",
       "\n",
       "    .dataframe tbody tr th {\n",
       "        vertical-align: top;\n",
       "    }\n",
       "\n",
       "    .dataframe thead th {\n",
       "        text-align: right;\n",
       "    }\n",
       "</style>\n",
       "<table border=\"1\" class=\"dataframe\">\n",
       "  <thead>\n",
       "    <tr style=\"text-align: right;\">\n",
       "      <th></th>\n",
       "      <th>id</th>\n",
       "      <th>ma_khach_hang</th>\n",
       "      <th>noi_dung_binh_luan</th>\n",
       "      <th>ngay_binh_luan</th>\n",
       "      <th>gio_binh_luan</th>\n",
       "      <th>so_sao</th>\n",
       "      <th>ma_san_pham</th>\n",
       "    </tr>\n",
       "  </thead>\n",
       "  <tbody>\n",
       "    <tr>\n",
       "      <th>0</th>\n",
       "      <td>1</td>\n",
       "      <td>443</td>\n",
       "      <td>SỬ DỤNG DỄ DÀNG, RẤT THOẢI MÁI, THƯ GIÃN TỘT ĐỘ.</td>\n",
       "      <td>29/04/2023</td>\n",
       "      <td>17:06</td>\n",
       "      <td>5</td>\n",
       "      <td>308500015</td>\n",
       "    </tr>\n",
       "    <tr>\n",
       "      <th>1</th>\n",
       "      <td>2</td>\n",
       "      <td>1030</td>\n",
       "      <td>Sử dụng dễ dãng,rất thoải mái,thư giãn tột độ</td>\n",
       "      <td>30/04/2023</td>\n",
       "      <td>15:04</td>\n",
       "      <td>5</td>\n",
       "      <td>308500015</td>\n",
       "    </tr>\n",
       "    <tr>\n",
       "      <th>2</th>\n",
       "      <td>3</td>\n",
       "      <td>689</td>\n",
       "      <td>Mình rất thích hasaki va sp tẩy trang này</td>\n",
       "      <td>30/04/2023</td>\n",
       "      <td>18:34</td>\n",
       "      <td>5</td>\n",
       "      <td>422216594</td>\n",
       "    </tr>\n",
       "    <tr>\n",
       "      <th>3</th>\n",
       "      <td>4</td>\n",
       "      <td>2519</td>\n",
       "      <td>Sản phẩm có khả năng làm sạch tốt. Lớp trang đ...</td>\n",
       "      <td>17/07/2022</td>\n",
       "      <td>13:48</td>\n",
       "      <td>5</td>\n",
       "      <td>204100075</td>\n",
       "    </tr>\n",
       "    <tr>\n",
       "      <th>4</th>\n",
       "      <td>5</td>\n",
       "      <td>402</td>\n",
       "      <td>Sữa rửa mặt tốt,sạch mụn,mịn da,đáng mua nha</td>\n",
       "      <td>15/04/2023</td>\n",
       "      <td>23:04</td>\n",
       "      <td>5</td>\n",
       "      <td>422208977</td>\n",
       "    </tr>\n",
       "  </tbody>\n",
       "</table>\n",
       "</div>"
      ],
      "text/plain": [
       "   id  ma_khach_hang                                 noi_dung_binh_luan  \\\n",
       "0   1            443   SỬ DỤNG DỄ DÀNG, RẤT THOẢI MÁI, THƯ GIÃN TỘT ĐỘ.   \n",
       "1   2           1030      Sử dụng dễ dãng,rất thoải mái,thư giãn tột độ   \n",
       "2   3            689          Mình rất thích hasaki va sp tẩy trang này   \n",
       "3   4           2519  Sản phẩm có khả năng làm sạch tốt. Lớp trang đ...   \n",
       "4   5            402       Sữa rửa mặt tốt,sạch mụn,mịn da,đáng mua nha   \n",
       "\n",
       "  ngay_binh_luan gio_binh_luan  so_sao  ma_san_pham  \n",
       "0     29/04/2023         17:06       5    308500015  \n",
       "1     30/04/2023         15:04       5    308500015  \n",
       "2     30/04/2023         18:34       5    422216594  \n",
       "3     17/07/2022         13:48       5    204100075  \n",
       "4     15/04/2023         23:04       5    422208977  "
      ]
     },
     "execution_count": 40,
     "metadata": {},
     "output_type": "execute_result"
    }
   ],
   "source": [
    "# Đọc dữ liệu từ tập dữ liệu cho sẵn\n",
    "data_dc_cung_cap = pd.read_csv('data/csv/Danh_gia.csv')\n",
    "print(data_dc_cung_cap.shape)\n",
    "data_dc_cung_cap.head()"
   ]
  },
  {
   "cell_type": "code",
   "execution_count": 41,
   "metadata": {},
   "outputs": [
    {
     "name": "stdout",
     "output_type": "stream",
     "text": [
      "Số dữ liệu null: 901\n",
      "Số dữ liệu trùng: 0\n"
     ]
    }
   ],
   "source": [
    "# Kiểm tra số dữ liệu null và trùng\n",
    "print(f'Số dữ liệu null: {data_dc_cung_cap.isna().values.sum()}')\n",
    "print(f'Số dữ liệu trùng: {data_dc_cung_cap.duplicated().values.sum()}')"
   ]
  },
  {
   "cell_type": "code",
   "execution_count": 42,
   "metadata": {},
   "outputs": [],
   "source": [
    "# Xử lý dấu phẩy và dấu chấm trong trường hợp không có khoảng trống\n",
    "data_dc_cung_cap['noi_dung_binh_luan'] = data_dc_cung_cap['noi_dung_binh_luan'].str.replace(',', ' ').replace('.', ' ')"
   ]
  },
  {
   "cell_type": "code",
   "execution_count": 43,
   "metadata": {},
   "outputs": [],
   "source": [
    "# Loại bỏ khoảng trắng thừa và xử lý giá trị NaN\n",
    "data_dc_cung_cap['noi_dung_binh_luan'] = data_dc_cung_cap['noi_dung_binh_luan'].str.strip().fillna('')"
   ]
  },
  {
   "cell_type": "code",
   "execution_count": 44,
   "metadata": {},
   "outputs": [],
   "source": [
    "# Loại bỏ các ký tự đặc biệt\n",
    "data_dc_cung_cap['noi_dung_binh_luan'] = data_dc_cung_cap['noi_dung_binh_luan'].apply(lambda x: re.sub(r'[^\\w\\s]', '', x))"
   ]
  },
  {
   "cell_type": "code",
   "execution_count": 45,
   "metadata": {},
   "outputs": [],
   "source": [
    "# Chuyển đổi sang kiểu số, gán NaN cho các giá trị không hợp lệ\n",
    "data_dc_cung_cap['so_sao'] = pd.to_numeric(data_dc_cung_cap['so_sao'], errors='coerce')"
   ]
  },
  {
   "cell_type": "code",
   "execution_count": 46,
   "metadata": {},
   "outputs": [],
   "source": [
    "# Loại bỏ các giá trị NaN hoặc gán giá trị mặc định\n",
    "data_dc_cung_cap['so_sao'] = data_dc_cung_cap['so_sao'].fillna(0).astype(int)"
   ]
  },
  {
   "cell_type": "code",
   "execution_count": 47,
   "metadata": {},
   "outputs": [],
   "source": [
    "# Giới hạn giá trị sao từ 1 đến 5\n",
    "data_dc_cung_cap = data_dc_cung_cap[(data_dc_cung_cap['so_sao'] >= 1) & (data_dc_cung_cap['so_sao'] <= 5)]"
   ]
  },
  {
   "cell_type": "code",
   "execution_count": 48,
   "metadata": {},
   "outputs": [],
   "source": [
    "# Loại bỏ các dòng trống hoặc bị lỗi\n",
    "data_dc_cung_cap = data_dc_cung_cap[data_dc_cung_cap['noi_dung_binh_luan'] != '']"
   ]
  },
  {
   "cell_type": "code",
   "execution_count": 49,
   "metadata": {},
   "outputs": [],
   "source": [
    "cot_can_loai_bo_trung = ['noi_dung_binh_luan', 'ngay_binh_luan', 'gio_binh_luan', 'so_sao', 'ma_san_pham']"
   ]
  },
  {
   "cell_type": "code",
   "execution_count": 50,
   "metadata": {},
   "outputs": [],
   "source": [
    "# Loại bỏ bình luận trùng (nếu có)\n",
    "data_dc_cung_cap = data_dc_cung_cap.drop_duplicates(subset=cot_can_loai_bo_trung, keep='first')"
   ]
  },
  {
   "cell_type": "code",
   "execution_count": 51,
   "metadata": {},
   "outputs": [
    {
     "data": {
      "text/plain": [
       "False"
      ]
     },
     "execution_count": 51,
     "metadata": {},
     "output_type": "execute_result"
    }
   ],
   "source": [
    "# Bỏ dữ liệu NaN\n",
    "data_dc_cung_cap.isna().values.any()"
   ]
  },
  {
   "cell_type": "code",
   "execution_count": 52,
   "metadata": {},
   "outputs": [
    {
     "data": {
      "text/plain": [
       "False"
      ]
     },
     "execution_count": 52,
     "metadata": {},
     "output_type": "execute_result"
    }
   ],
   "source": [
    "# => Quyết định bỏ các bình luận trùng để quá trình huấn luyện tốt hơn cũng như tránh các trường hợp bình luận ảo\n",
    "data_dc_cung_cap.duplicated().values.any()"
   ]
  },
  {
   "cell_type": "code",
   "execution_count": 53,
   "metadata": {},
   "outputs": [
    {
     "name": "stdout",
     "output_type": "stream",
     "text": [
      "(20630, 7)\n"
     ]
    },
    {
     "data": {
      "text/html": [
       "<div>\n",
       "<style scoped>\n",
       "    .dataframe tbody tr th:only-of-type {\n",
       "        vertical-align: middle;\n",
       "    }\n",
       "\n",
       "    .dataframe tbody tr th {\n",
       "        vertical-align: top;\n",
       "    }\n",
       "\n",
       "    .dataframe thead th {\n",
       "        text-align: right;\n",
       "    }\n",
       "</style>\n",
       "<table border=\"1\" class=\"dataframe\">\n",
       "  <thead>\n",
       "    <tr style=\"text-align: right;\">\n",
       "      <th></th>\n",
       "      <th>id</th>\n",
       "      <th>ma_khach_hang</th>\n",
       "      <th>noi_dung_binh_luan</th>\n",
       "      <th>ngay_binh_luan</th>\n",
       "      <th>gio_binh_luan</th>\n",
       "      <th>so_sao</th>\n",
       "      <th>ma_san_pham</th>\n",
       "    </tr>\n",
       "  </thead>\n",
       "  <tbody>\n",
       "    <tr>\n",
       "      <th>0</th>\n",
       "      <td>1</td>\n",
       "      <td>443</td>\n",
       "      <td>SỬ DỤNG DỄ DÀNG  RẤT THOẢI MÁI  THƯ GIÃN TỘT ĐỘ</td>\n",
       "      <td>29/04/2023</td>\n",
       "      <td>17:06</td>\n",
       "      <td>5</td>\n",
       "      <td>308500015</td>\n",
       "    </tr>\n",
       "    <tr>\n",
       "      <th>1</th>\n",
       "      <td>2</td>\n",
       "      <td>1030</td>\n",
       "      <td>Sử dụng dễ dãng rất thoải mái thư giãn tột độ</td>\n",
       "      <td>30/04/2023</td>\n",
       "      <td>15:04</td>\n",
       "      <td>5</td>\n",
       "      <td>308500015</td>\n",
       "    </tr>\n",
       "    <tr>\n",
       "      <th>2</th>\n",
       "      <td>3</td>\n",
       "      <td>689</td>\n",
       "      <td>Mình rất thích hasaki va sp tẩy trang này</td>\n",
       "      <td>30/04/2023</td>\n",
       "      <td>18:34</td>\n",
       "      <td>5</td>\n",
       "      <td>422216594</td>\n",
       "    </tr>\n",
       "    <tr>\n",
       "      <th>3</th>\n",
       "      <td>4</td>\n",
       "      <td>2519</td>\n",
       "      <td>Sản phẩm có khả năng làm sạch tốt Lớp trang đi...</td>\n",
       "      <td>17/07/2022</td>\n",
       "      <td>13:48</td>\n",
       "      <td>5</td>\n",
       "      <td>204100075</td>\n",
       "    </tr>\n",
       "    <tr>\n",
       "      <th>4</th>\n",
       "      <td>5</td>\n",
       "      <td>402</td>\n",
       "      <td>Sữa rửa mặt tốt sạch mụn mịn da đáng mua nha</td>\n",
       "      <td>15/04/2023</td>\n",
       "      <td>23:04</td>\n",
       "      <td>5</td>\n",
       "      <td>422208977</td>\n",
       "    </tr>\n",
       "  </tbody>\n",
       "</table>\n",
       "</div>"
      ],
      "text/plain": [
       "   id  ma_khach_hang                                 noi_dung_binh_luan  \\\n",
       "0   1            443    SỬ DỤNG DỄ DÀNG  RẤT THOẢI MÁI  THƯ GIÃN TỘT ĐỘ   \n",
       "1   2           1030      Sử dụng dễ dãng rất thoải mái thư giãn tột độ   \n",
       "2   3            689          Mình rất thích hasaki va sp tẩy trang này   \n",
       "3   4           2519  Sản phẩm có khả năng làm sạch tốt Lớp trang đi...   \n",
       "4   5            402       Sữa rửa mặt tốt sạch mụn mịn da đáng mua nha   \n",
       "\n",
       "  ngay_binh_luan gio_binh_luan  so_sao  ma_san_pham  \n",
       "0     29/04/2023         17:06       5    308500015  \n",
       "1     30/04/2023         15:04       5    308500015  \n",
       "2     30/04/2023         18:34       5    422216594  \n",
       "3     17/07/2022         13:48       5    204100075  \n",
       "4     15/04/2023         23:04       5    422208977  "
      ]
     },
     "execution_count": 53,
     "metadata": {},
     "output_type": "execute_result"
    }
   ],
   "source": [
    "print(data_dc_cung_cap.shape)\n",
    "data_dc_cung_cap.head()"
   ]
  },
  {
   "cell_type": "markdown",
   "metadata": {},
   "source": [
    "#### Với tập dữ liệu cào từ website"
   ]
  },
  {
   "cell_type": "code",
   "execution_count": 54,
   "metadata": {},
   "outputs": [
    {
     "name": "stdout",
     "output_type": "stream",
     "text": [
      "(9540, 7)\n"
     ]
    },
    {
     "data": {
      "text/html": [
       "<div>\n",
       "<style scoped>\n",
       "    .dataframe tbody tr th:only-of-type {\n",
       "        vertical-align: middle;\n",
       "    }\n",
       "\n",
       "    .dataframe tbody tr th {\n",
       "        vertical-align: top;\n",
       "    }\n",
       "\n",
       "    .dataframe thead th {\n",
       "        text-align: right;\n",
       "    }\n",
       "</style>\n",
       "<table border=\"1\" class=\"dataframe\">\n",
       "  <thead>\n",
       "    <tr style=\"text-align: right;\">\n",
       "      <th></th>\n",
       "      <th>id</th>\n",
       "      <th>ma_khach_hang</th>\n",
       "      <th>noi_dung_binh_luan</th>\n",
       "      <th>ngay_binh_luan</th>\n",
       "      <th>gio_binh_luan</th>\n",
       "      <th>so_sao</th>\n",
       "      <th>ma_san_pham</th>\n",
       "    </tr>\n",
       "  </thead>\n",
       "  <tbody>\n",
       "    <tr>\n",
       "      <th>0</th>\n",
       "      <td>1</td>\n",
       "      <td>customer_code 1</td>\n",
       "      <td>Đi spa được bạn NV chỉ cho dùng hãng này, xài ...</td>\n",
       "      <td>23/05/2024</td>\n",
       "      <td>13: 46</td>\n",
       "      <td>5</td>\n",
       "      <td>242300001</td>\n",
       "    </tr>\n",
       "    <tr>\n",
       "      <th>1</th>\n",
       "      <td>2</td>\n",
       "      <td>customer_code 2</td>\n",
       "      <td>Không có gì để chê được hết. Phải biết sớm là ...</td>\n",
       "      <td>16/05/2024</td>\n",
       "      <td>18: 52</td>\n",
       "      <td>5</td>\n",
       "      <td>242300001</td>\n",
       "    </tr>\n",
       "    <tr>\n",
       "      <th>2</th>\n",
       "      <td>3</td>\n",
       "      <td>customer_code 3</td>\n",
       "      <td>sản phẩm tốt hiệu quả cao không còn mùi hôi kh...</td>\n",
       "      <td>05/04/2024</td>\n",
       "      <td>17: 59</td>\n",
       "      <td>5</td>\n",
       "      <td>242300001</td>\n",
       "    </tr>\n",
       "    <tr>\n",
       "      <th>3</th>\n",
       "      <td>4</td>\n",
       "      <td>customer_code 4</td>\n",
       "      <td>lăn xài hiệu quả, có chút mùi cồn dùng đặc trị...</td>\n",
       "      <td>18/11/2023</td>\n",
       "      <td>11: 36</td>\n",
       "      <td>4</td>\n",
       "      <td>242300001</td>\n",
       "    </tr>\n",
       "    <tr>\n",
       "      <th>4</th>\n",
       "      <td>5</td>\n",
       "      <td>customer_code 5</td>\n",
       "      <td>NaN</td>\n",
       "      <td>05/11/2023</td>\n",
       "      <td>13: 43</td>\n",
       "      <td>4</td>\n",
       "      <td>242300001</td>\n",
       "    </tr>\n",
       "  </tbody>\n",
       "</table>\n",
       "</div>"
      ],
      "text/plain": [
       "   id    ma_khach_hang                                 noi_dung_binh_luan  \\\n",
       "0   1  customer_code 1  Đi spa được bạn NV chỉ cho dùng hãng này, xài ...   \n",
       "1   2  customer_code 2  Không có gì để chê được hết. Phải biết sớm là ...   \n",
       "2   3  customer_code 3  sản phẩm tốt hiệu quả cao không còn mùi hôi kh...   \n",
       "3   4  customer_code 4  lăn xài hiệu quả, có chút mùi cồn dùng đặc trị...   \n",
       "4   5  customer_code 5                                                NaN   \n",
       "\n",
       "  ngay_binh_luan gio_binh_luan  so_sao  ma_san_pham  \n",
       "0     23/05/2024        13: 46       5    242300001  \n",
       "1     16/05/2024        18: 52       5    242300001  \n",
       "2     05/04/2024        17: 59       5    242300001  \n",
       "3     18/11/2023        11: 36       4    242300001  \n",
       "4     05/11/2023        13: 43       4    242300001  "
      ]
     },
     "execution_count": 54,
     "metadata": {},
     "output_type": "execute_result"
    }
   ],
   "source": [
    "# Lặp lại các bước xử lý cho dữ liệu được cào từ website\n",
    "# Đọc dữ liệu từ tập dữ liệu cào từ web\n",
    "data_tu_cao_dieu_lieu = pd.read_csv('data/csv/Danh_gia_tu_cao_du_lieu.csv')\n",
    "print(data_tu_cao_dieu_lieu.shape)\n",
    "data_tu_cao_dieu_lieu.head()"
   ]
  },
  {
   "cell_type": "code",
   "execution_count": 55,
   "metadata": {},
   "outputs": [],
   "source": [
    "# Xử lý dấu phẩy và dấu chấm trong trường hợp không có khoảng trống\n",
    "data_tu_cao_dieu_lieu['noi_dung_binh_luan'] = data_tu_cao_dieu_lieu['noi_dung_binh_luan'].str.replace(',', ' ').replace('.', ' ')"
   ]
  },
  {
   "cell_type": "code",
   "execution_count": 56,
   "metadata": {},
   "outputs": [],
   "source": [
    "# Loại bỏ khoảng trắng thừa và xử lý giá trị NaN\n",
    "data_tu_cao_dieu_lieu['noi_dung_binh_luan'] = data_tu_cao_dieu_lieu['noi_dung_binh_luan'].str.strip().fillna('')"
   ]
  },
  {
   "cell_type": "code",
   "execution_count": 57,
   "metadata": {},
   "outputs": [],
   "source": [
    "# Loại bỏ các ký tự đặc biệt\n",
    "data_tu_cao_dieu_lieu['noi_dung_binh_luan'] = data_tu_cao_dieu_lieu['noi_dung_binh_luan'].apply(lambda x: re.sub(r'[^\\w\\s]', '', x))"
   ]
  },
  {
   "cell_type": "code",
   "execution_count": 58,
   "metadata": {},
   "outputs": [],
   "source": [
    "# Chuyển đổi sang kiểu số, gán NaN cho các giá trị không hợp lệ\n",
    "data_tu_cao_dieu_lieu['so_sao'] = pd.to_numeric(data_tu_cao_dieu_lieu['so_sao'], errors='coerce')"
   ]
  },
  {
   "cell_type": "code",
   "execution_count": 59,
   "metadata": {},
   "outputs": [],
   "source": [
    "# Loại bỏ các giá trị NaN hoặc gán giá trị mặc định\n",
    "data_tu_cao_dieu_lieu['so_sao'] = data_tu_cao_dieu_lieu['so_sao'].fillna(0).astype(int)"
   ]
  },
  {
   "cell_type": "code",
   "execution_count": 60,
   "metadata": {},
   "outputs": [],
   "source": [
    "# Loại bỏ bình luận trùng (nếu có)\n",
    "data_tu_cao_dieu_lieu = data_tu_cao_dieu_lieu.drop_duplicates(subset=cot_can_loai_bo_trung, keep='first')"
   ]
  },
  {
   "cell_type": "code",
   "execution_count": 61,
   "metadata": {},
   "outputs": [
    {
     "data": {
      "text/plain": [
       "False"
      ]
     },
     "execution_count": 61,
     "metadata": {},
     "output_type": "execute_result"
    }
   ],
   "source": [
    "# Loại bỏ dữ liệu NaN\n",
    "data_tu_cao_dieu_lieu.isna().values.any()"
   ]
  },
  {
   "cell_type": "code",
   "execution_count": 62,
   "metadata": {},
   "outputs": [
    {
     "data": {
      "text/plain": [
       "False"
      ]
     },
     "execution_count": 62,
     "metadata": {},
     "output_type": "execute_result"
    }
   ],
   "source": [
    "# Kiểm dữ liệu trùng lặp\n",
    "data_tu_cao_dieu_lieu.duplicated().values.any()"
   ]
  },
  {
   "cell_type": "code",
   "execution_count": 63,
   "metadata": {},
   "outputs": [
    {
     "name": "stdout",
     "output_type": "stream",
     "text": [
      "(2090, 7)\n"
     ]
    },
    {
     "data": {
      "text/html": [
       "<div>\n",
       "<style scoped>\n",
       "    .dataframe tbody tr th:only-of-type {\n",
       "        vertical-align: middle;\n",
       "    }\n",
       "\n",
       "    .dataframe tbody tr th {\n",
       "        vertical-align: top;\n",
       "    }\n",
       "\n",
       "    .dataframe thead th {\n",
       "        text-align: right;\n",
       "    }\n",
       "</style>\n",
       "<table border=\"1\" class=\"dataframe\">\n",
       "  <thead>\n",
       "    <tr style=\"text-align: right;\">\n",
       "      <th></th>\n",
       "      <th>id</th>\n",
       "      <th>ma_khach_hang</th>\n",
       "      <th>noi_dung_binh_luan</th>\n",
       "      <th>ngay_binh_luan</th>\n",
       "      <th>gio_binh_luan</th>\n",
       "      <th>so_sao</th>\n",
       "      <th>ma_san_pham</th>\n",
       "    </tr>\n",
       "  </thead>\n",
       "  <tbody>\n",
       "    <tr>\n",
       "      <th>9515</th>\n",
       "      <td>9516</td>\n",
       "      <td>customer_code 9516</td>\n",
       "      <td>Chỉ thoảng mùi cà phê  hạt scrub khá to và dín...</td>\n",
       "      <td>30/07/2022</td>\n",
       "      <td>22: 04</td>\n",
       "      <td>3</td>\n",
       "      <td>422205970</td>\n",
       "    </tr>\n",
       "    <tr>\n",
       "      <th>9516</th>\n",
       "      <td>9517</td>\n",
       "      <td>customer_code 9517</td>\n",
       "      <td>hạt khá là to không như hãng khác</td>\n",
       "      <td>28/07/2022</td>\n",
       "      <td>10: 27</td>\n",
       "      <td>4</td>\n",
       "      <td>422205970</td>\n",
       "    </tr>\n",
       "    <tr>\n",
       "      <th>9517</th>\n",
       "      <td>9518</td>\n",
       "      <td>customer_code 9518</td>\n",
       "      <td>tẩy tbc hạt to lắm  xoa tầm 67p là tan gần hết...</td>\n",
       "      <td>25/07/2022</td>\n",
       "      <td>13: 08</td>\n",
       "      <td>3</td>\n",
       "      <td>422205970</td>\n",
       "    </tr>\n",
       "    <tr>\n",
       "      <th>9518</th>\n",
       "      <td>9519</td>\n",
       "      <td>customer_code 9519</td>\n",
       "      <td>Hạt đường to làm rát da  sau khi tắm da cũng c...</td>\n",
       "      <td>20/07/2022</td>\n",
       "      <td>15: 30</td>\n",
       "      <td>1</td>\n",
       "      <td>422205970</td>\n",
       "    </tr>\n",
       "    <tr>\n",
       "      <th>9519</th>\n",
       "      <td>9520</td>\n",
       "      <td>customer_code 9520</td>\n",
       "      <td>mới mua tặng vợ  vợ xài kêu thích lắm nên chắc...</td>\n",
       "      <td>20/07/2022</td>\n",
       "      <td>15: 05</td>\n",
       "      <td>5</td>\n",
       "      <td>422205970</td>\n",
       "    </tr>\n",
       "  </tbody>\n",
       "</table>\n",
       "</div>"
      ],
      "text/plain": [
       "        id       ma_khach_hang  \\\n",
       "9515  9516  customer_code 9516   \n",
       "9516  9517  customer_code 9517   \n",
       "9517  9518  customer_code 9518   \n",
       "9518  9519  customer_code 9519   \n",
       "9519  9520  customer_code 9520   \n",
       "\n",
       "                                     noi_dung_binh_luan ngay_binh_luan  \\\n",
       "9515  Chỉ thoảng mùi cà phê  hạt scrub khá to và dín...     30/07/2022   \n",
       "9516                  hạt khá là to không như hãng khác     28/07/2022   \n",
       "9517  tẩy tbc hạt to lắm  xoa tầm 67p là tan gần hết...     25/07/2022   \n",
       "9518  Hạt đường to làm rát da  sau khi tắm da cũng c...     20/07/2022   \n",
       "9519  mới mua tặng vợ  vợ xài kêu thích lắm nên chắc...     20/07/2022   \n",
       "\n",
       "     gio_binh_luan  so_sao  ma_san_pham  \n",
       "9515        22: 04       3    422205970  \n",
       "9516        10: 27       4    422205970  \n",
       "9517        13: 08       3    422205970  \n",
       "9518        15: 30       1    422205970  \n",
       "9519        15: 05       5    422205970  "
      ]
     },
     "execution_count": 63,
     "metadata": {},
     "output_type": "execute_result"
    }
   ],
   "source": [
    "print(data_tu_cao_dieu_lieu.shape)\n",
    "data_tu_cao_dieu_lieu.tail()"
   ]
  },
  {
   "cell_type": "markdown",
   "metadata": {},
   "source": [
    "#### Merge 2 tập dữ liệu"
   ]
  },
  {
   "cell_type": "code",
   "execution_count": 64,
   "metadata": {},
   "outputs": [
    {
     "name": "stdout",
     "output_type": "stream",
     "text": [
      "(22720, 7)\n"
     ]
    },
    {
     "data": {
      "text/html": [
       "<div>\n",
       "<style scoped>\n",
       "    .dataframe tbody tr th:only-of-type {\n",
       "        vertical-align: middle;\n",
       "    }\n",
       "\n",
       "    .dataframe tbody tr th {\n",
       "        vertical-align: top;\n",
       "    }\n",
       "\n",
       "    .dataframe thead th {\n",
       "        text-align: right;\n",
       "    }\n",
       "</style>\n",
       "<table border=\"1\" class=\"dataframe\">\n",
       "  <thead>\n",
       "    <tr style=\"text-align: right;\">\n",
       "      <th></th>\n",
       "      <th>id</th>\n",
       "      <th>ma_khach_hang</th>\n",
       "      <th>noi_dung_binh_luan</th>\n",
       "      <th>ngay_binh_luan</th>\n",
       "      <th>gio_binh_luan</th>\n",
       "      <th>so_sao</th>\n",
       "      <th>ma_san_pham</th>\n",
       "    </tr>\n",
       "  </thead>\n",
       "  <tbody>\n",
       "    <tr>\n",
       "      <th>0</th>\n",
       "      <td>1</td>\n",
       "      <td>443</td>\n",
       "      <td>SỬ DỤNG DỄ DÀNG  RẤT THOẢI MÁI  THƯ GIÃN TỘT ĐỘ</td>\n",
       "      <td>29/04/2023</td>\n",
       "      <td>17:06</td>\n",
       "      <td>5</td>\n",
       "      <td>308500015</td>\n",
       "    </tr>\n",
       "    <tr>\n",
       "      <th>1</th>\n",
       "      <td>2</td>\n",
       "      <td>1030</td>\n",
       "      <td>Sử dụng dễ dãng rất thoải mái thư giãn tột độ</td>\n",
       "      <td>30/04/2023</td>\n",
       "      <td>15:04</td>\n",
       "      <td>5</td>\n",
       "      <td>308500015</td>\n",
       "    </tr>\n",
       "    <tr>\n",
       "      <th>2</th>\n",
       "      <td>3</td>\n",
       "      <td>689</td>\n",
       "      <td>Mình rất thích hasaki va sp tẩy trang này</td>\n",
       "      <td>30/04/2023</td>\n",
       "      <td>18:34</td>\n",
       "      <td>5</td>\n",
       "      <td>422216594</td>\n",
       "    </tr>\n",
       "    <tr>\n",
       "      <th>3</th>\n",
       "      <td>4</td>\n",
       "      <td>2519</td>\n",
       "      <td>Sản phẩm có khả năng làm sạch tốt Lớp trang đi...</td>\n",
       "      <td>17/07/2022</td>\n",
       "      <td>13:48</td>\n",
       "      <td>5</td>\n",
       "      <td>204100075</td>\n",
       "    </tr>\n",
       "    <tr>\n",
       "      <th>4</th>\n",
       "      <td>5</td>\n",
       "      <td>402</td>\n",
       "      <td>Sữa rửa mặt tốt sạch mụn mịn da đáng mua nha</td>\n",
       "      <td>15/04/2023</td>\n",
       "      <td>23:04</td>\n",
       "      <td>5</td>\n",
       "      <td>422208977</td>\n",
       "    </tr>\n",
       "  </tbody>\n",
       "</table>\n",
       "</div>"
      ],
      "text/plain": [
       "   id ma_khach_hang                                 noi_dung_binh_luan  \\\n",
       "0   1           443    SỬ DỤNG DỄ DÀNG  RẤT THOẢI MÁI  THƯ GIÃN TỘT ĐỘ   \n",
       "1   2          1030      Sử dụng dễ dãng rất thoải mái thư giãn tột độ   \n",
       "2   3           689          Mình rất thích hasaki va sp tẩy trang này   \n",
       "3   4          2519  Sản phẩm có khả năng làm sạch tốt Lớp trang đi...   \n",
       "4   5           402       Sữa rửa mặt tốt sạch mụn mịn da đáng mua nha   \n",
       "\n",
       "  ngay_binh_luan gio_binh_luan  so_sao  ma_san_pham  \n",
       "0     29/04/2023         17:06       5    308500015  \n",
       "1     30/04/2023         15:04       5    308500015  \n",
       "2     30/04/2023         18:34       5    422216594  \n",
       "3     17/07/2022         13:48       5    204100075  \n",
       "4     15/04/2023         23:04       5    422208977  "
      ]
     },
     "execution_count": 64,
     "metadata": {},
     "output_type": "execute_result"
    }
   ],
   "source": [
    "data =  pd.concat([data_dc_cung_cap, data_tu_cao_dieu_lieu], ignore_index=True)\n",
    "print(data.shape)\n",
    "data.head()"
   ]
  },
  {
   "cell_type": "markdown",
   "metadata": {},
   "source": [
    "#### Xử lý dữ liệu tiếng Việt"
   ]
  },
  {
   "cell_type": "code",
   "execution_count": 65,
   "metadata": {},
   "outputs": [],
   "source": [
    "# Lấy giá dict cho emoji, teencode, wrong words và stop words\n",
    "emoji_dict, teen_dict, wrong_lst, stopwords_lst = load_raw_files()"
   ]
  },
  {
   "cell_type": "code",
   "execution_count": 66,
   "metadata": {},
   "outputs": [],
   "source": [
    "# data['noi_dung_binh_luan_sau_xu_ly'] = data['noi_dung_binh_luan'].apply(correct_text)"
   ]
  },
  {
   "cell_type": "code",
   "execution_count": 67,
   "metadata": {},
   "outputs": [],
   "source": [
    "data['noi_dung_binh_luan_sau_xu_ly'] = data['noi_dung_binh_luan'].apply(\n",
    "    lambda x: process_text(x, emoji_dict, teen_dict, wrong_lst)\n",
    ")"
   ]
  },
  {
   "cell_type": "code",
   "execution_count": 68,
   "metadata": {},
   "outputs": [],
   "source": [
    "data['noi_dung_binh_luan_sau_xu_ly'] = data['noi_dung_binh_luan_sau_xu_ly'].apply(\n",
    "    lambda x: covert_unicode(x)\n",
    ")"
   ]
  },
  {
   "cell_type": "code",
   "execution_count": 69,
   "metadata": {},
   "outputs": [],
   "source": [
    "data['noi_dung_binh_luan_sau_xu_ly'] = data['noi_dung_binh_luan_sau_xu_ly'].apply(\n",
    "    lambda x: process_special_word(x)\n",
    ")"
   ]
  },
  {
   "cell_type": "code",
   "execution_count": 70,
   "metadata": {},
   "outputs": [],
   "source": [
    "data['noi_dung_binh_luan_sau_xu_ly'] = data['noi_dung_binh_luan_sau_xu_ly'].apply(\n",
    "    lambda x: normalize_repeated_characters(x)\n",
    ")"
   ]
  },
  {
   "cell_type": "markdown",
   "metadata": {},
   "source": []
  },
  {
   "cell_type": "code",
   "execution_count": 71,
   "metadata": {},
   "outputs": [],
   "source": [
    "data['noi_dung_binh_luan_sau_xu_ly'] = data['noi_dung_binh_luan_sau_xu_ly'].apply(\n",
    "    lambda x: process_postag_thesea(x)\n",
    ")"
   ]
  },
  {
   "cell_type": "code",
   "execution_count": 72,
   "metadata": {},
   "outputs": [],
   "source": [
    "data['noi_dung_binh_luan_sau_xu_ly'] = data['noi_dung_binh_luan_sau_xu_ly'].apply(\n",
    "    lambda x: remove_stopword(x, stopwords_lst)\n",
    ")"
   ]
  },
  {
   "cell_type": "code",
   "execution_count": 73,
   "metadata": {},
   "outputs": [
    {
     "data": {
      "text/html": [
       "<div>\n",
       "<style scoped>\n",
       "    .dataframe tbody tr th:only-of-type {\n",
       "        vertical-align: middle;\n",
       "    }\n",
       "\n",
       "    .dataframe tbody tr th {\n",
       "        vertical-align: top;\n",
       "    }\n",
       "\n",
       "    .dataframe thead th {\n",
       "        text-align: right;\n",
       "    }\n",
       "</style>\n",
       "<table border=\"1\" class=\"dataframe\">\n",
       "  <thead>\n",
       "    <tr style=\"text-align: right;\">\n",
       "      <th></th>\n",
       "      <th>id</th>\n",
       "      <th>ma_khach_hang</th>\n",
       "      <th>noi_dung_binh_luan</th>\n",
       "      <th>ngay_binh_luan</th>\n",
       "      <th>gio_binh_luan</th>\n",
       "      <th>so_sao</th>\n",
       "      <th>ma_san_pham</th>\n",
       "      <th>noi_dung_binh_luan_sau_xu_ly</th>\n",
       "    </tr>\n",
       "  </thead>\n",
       "  <tbody>\n",
       "    <tr>\n",
       "      <th>0</th>\n",
       "      <td>1</td>\n",
       "      <td>443</td>\n",
       "      <td>SỬ DỤNG DỄ DÀNG  RẤT THOẢI MÁI  THƯ GIÃN TỘT ĐỘ</td>\n",
       "      <td>29/04/2023</td>\n",
       "      <td>17:06</td>\n",
       "      <td>5</td>\n",
       "      <td>308500015</td>\n",
       "      <td>dễ_dàng thoải_mái thư_giãn</td>\n",
       "    </tr>\n",
       "    <tr>\n",
       "      <th>1</th>\n",
       "      <td>2</td>\n",
       "      <td>1030</td>\n",
       "      <td>Sử dụng dễ dãng rất thoải mái thư giãn tột độ</td>\n",
       "      <td>30/04/2023</td>\n",
       "      <td>15:04</td>\n",
       "      <td>5</td>\n",
       "      <td>308500015</td>\n",
       "      <td>dãng thoải_mái thư_giãn</td>\n",
       "    </tr>\n",
       "    <tr>\n",
       "      <th>2</th>\n",
       "      <td>3</td>\n",
       "      <td>689</td>\n",
       "      <td>Mình rất thích hasaki va sp tẩy trang này</td>\n",
       "      <td>30/04/2023</td>\n",
       "      <td>18:34</td>\n",
       "      <td>5</td>\n",
       "      <td>422216594</td>\n",
       "      <td>thích tẩy_trang</td>\n",
       "    </tr>\n",
       "    <tr>\n",
       "      <th>3</th>\n",
       "      <td>4</td>\n",
       "      <td>2519</td>\n",
       "      <td>Sản phẩm có khả năng làm sạch tốt Lớp trang đi...</td>\n",
       "      <td>17/07/2022</td>\n",
       "      <td>13:48</td>\n",
       "      <td>5</td>\n",
       "      <td>204100075</td>\n",
       "      <td>khả_năng sạch tốt lớp trang_điểm mắt môi_chóng...</td>\n",
       "    </tr>\n",
       "    <tr>\n",
       "      <th>4</th>\n",
       "      <td>5</td>\n",
       "      <td>402</td>\n",
       "      <td>Sữa rửa mặt tốt sạch mụn mịn da đáng mua nha</td>\n",
       "      <td>15/04/2023</td>\n",
       "      <td>23:04</td>\n",
       "      <td>5</td>\n",
       "      <td>422208977</td>\n",
       "      <td>sữa rửa mặt tốt sạch mụn mịn</td>\n",
       "    </tr>\n",
       "    <tr>\n",
       "      <th>5</th>\n",
       "      <td>7</td>\n",
       "      <td>2517</td>\n",
       "      <td>Sau 77 49 dòng srm  thì chân ái là đây  mua tu...</td>\n",
       "      <td>25/12/2022</td>\n",
       "      <td>17:11</td>\n",
       "      <td>5</td>\n",
       "      <td>204100019</td>\n",
       "      <td>dòng sửa rửa mặt chân_ái tuyp thử ok nhờn khô_...</td>\n",
       "    </tr>\n",
       "    <tr>\n",
       "      <th>6</th>\n",
       "      <td>8</td>\n",
       "      <td>1750</td>\n",
       "      <td>Đó giờ mình sài bha của obagi cũng 34 chai rồi...</td>\n",
       "      <td>9/7/2022</td>\n",
       "      <td>4:34</td>\n",
       "      <td>5</td>\n",
       "      <td>100220035</td>\n",
       "      <td>sài bha obagi đổi thử_sài plc hàng kèm quà tặn...</td>\n",
       "    </tr>\n",
       "    <tr>\n",
       "      <th>7</th>\n",
       "      <td>9</td>\n",
       "      <td>3394</td>\n",
       "      <td>Rất ok mình xài 2 chai rồi</td>\n",
       "      <td>7/7/2022</td>\n",
       "      <td>11:18</td>\n",
       "      <td>5</td>\n",
       "      <td>204100024</td>\n",
       "      <td>ok xài</td>\n",
       "    </tr>\n",
       "    <tr>\n",
       "      <th>8</th>\n",
       "      <td>10</td>\n",
       "      <td>1817</td>\n",
       "      <td>Mik bị kich ứng  không hợp sản phẩm  sd được 3...</td>\n",
       "      <td>5/2/2024</td>\n",
       "      <td>3:50</td>\n",
       "      <td>4</td>\n",
       "      <td>422216354</td>\n",
       "      <td>ứng_không_hợp</td>\n",
       "    </tr>\n",
       "    <tr>\n",
       "      <th>9</th>\n",
       "      <td>11</td>\n",
       "      <td>3556</td>\n",
       "      <td>nhân viên tư vấn như mới train và được nhận vì...</td>\n",
       "      <td>12/9/2023</td>\n",
       "      <td>22:33</td>\n",
       "      <td>5</td>\n",
       "      <td>100250032</td>\n",
       "      <td>tư_vấn train đẹp thôi_át dán mụn trả_lời tè_ra...</td>\n",
       "    </tr>\n",
       "    <tr>\n",
       "      <th>10</th>\n",
       "      <td>12</td>\n",
       "      <td>2375</td>\n",
       "      <td>Mùi thơm dịu nhe   mát nhanh  thư giãn tột dộ</td>\n",
       "      <td>29/04/2023</td>\n",
       "      <td>16:52</td>\n",
       "      <td>5</td>\n",
       "      <td>422205163</td>\n",
       "      <td>mùi thơm_dịu mát thư_giãn</td>\n",
       "    </tr>\n",
       "    <tr>\n",
       "      <th>11</th>\n",
       "      <td>13</td>\n",
       "      <td>2027</td>\n",
       "      <td>Mình khum đánh giá cao cái vụ nâng tông trắng ...</td>\n",
       "      <td>24/10/2022</td>\n",
       "      <td>18:02</td>\n",
       "      <td>5</td>\n",
       "      <td>249500019</td>\n",
       "      <td>khum vụ nâng tông trắng lắm chỉnh chống nắng l...</td>\n",
       "    </tr>\n",
       "    <tr>\n",
       "      <th>12</th>\n",
       "      <td>14</td>\n",
       "      <td>2928</td>\n",
       "      <td>dù là hay được so sánh với BNBG nhma mình thấy...</td>\n",
       "      <td>27/03/2024</td>\n",
       "      <td>22:14</td>\n",
       "      <td>5</td>\n",
       "      <td>422209718</td>\n",
       "      <td>sánh bnbg nhma ẩm_không_tốt bnbg tốt tầm_giá d...</td>\n",
       "    </tr>\n",
       "    <tr>\n",
       "      <th>13</th>\n",
       "      <td>15</td>\n",
       "      <td>3059</td>\n",
       "      <td>Miếng bông quá mỏng thấm có chút nước tẩy tran...</td>\n",
       "      <td>19/12/2020</td>\n",
       "      <td>7:52</td>\n",
       "      <td>2</td>\n",
       "      <td>413400001</td>\n",
       "      <td>mỏng thấm tẩy trangtoner nhũn liền mặt tưa đáp...</td>\n",
       "    </tr>\n",
       "    <tr>\n",
       "      <th>14</th>\n",
       "      <td>16</td>\n",
       "      <td>1118</td>\n",
       "      <td>Xài tốt  tẩy trang sạch  mình xài thấy thích h...</td>\n",
       "      <td>22/06/2021</td>\n",
       "      <td>9:30</td>\n",
       "      <td>5</td>\n",
       "      <td>422204884</td>\n",
       "      <td>xài tốt_tẩy trang sạch xài thích tẩy_trang lor...</td>\n",
       "    </tr>\n",
       "    <tr>\n",
       "      <th>15</th>\n",
       "      <td>17</td>\n",
       "      <td>2273</td>\n",
       "      <td>Hơi bết và trắng quá</td>\n",
       "      <td>17/12/2022</td>\n",
       "      <td>11:20</td>\n",
       "      <td>4</td>\n",
       "      <td>422208183</td>\n",
       "      <td>hơi bết trắng</td>\n",
       "    </tr>\n",
       "    <tr>\n",
       "      <th>16</th>\n",
       "      <td>18</td>\n",
       "      <td>736</td>\n",
       "      <td>sản phẩm tốt</td>\n",
       "      <td>5/12/2022</td>\n",
       "      <td>15:52</td>\n",
       "      <td>5</td>\n",
       "      <td>100230056</td>\n",
       "      <td>tốt</td>\n",
       "    </tr>\n",
       "    <tr>\n",
       "      <th>17</th>\n",
       "      <td>19</td>\n",
       "      <td>731</td>\n",
       "      <td>Mua chai thứ 4 5 gì rồi  đúng kiểu tiền nào củ...</td>\n",
       "      <td>4/3/2023</td>\n",
       "      <td>19:08</td>\n",
       "      <td>5</td>\n",
       "      <td>100230056</td>\n",
       "      <td>kiểu tiền xài ok tẩy_trang hàng hơi</td>\n",
       "    </tr>\n",
       "    <tr>\n",
       "      <th>18</th>\n",
       "      <td>20</td>\n",
       "      <td>4234</td>\n",
       "      <td>rít mặt nên đắp xomg phải lau lại rôid dùng dư...</td>\n",
       "      <td>17/07/2023</td>\n",
       "      <td>23:05</td>\n",
       "      <td>4</td>\n",
       "      <td>422205637</td>\n",
       "      <td>rít mặt đắp xomg rôid dưỡng đó_nhiên mask tốt_...</td>\n",
       "    </tr>\n",
       "    <tr>\n",
       "      <th>19</th>\n",
       "      <td>21</td>\n",
       "      <td>2696</td>\n",
       "      <td>quá ok luôn</td>\n",
       "      <td>18/08/2019</td>\n",
       "      <td>23:21</td>\n",
       "      <td>5</td>\n",
       "      <td>422203776</td>\n",
       "      <td>ok</td>\n",
       "    </tr>\n",
       "  </tbody>\n",
       "</table>\n",
       "</div>"
      ],
      "text/plain": [
       "    id ma_khach_hang                                 noi_dung_binh_luan  \\\n",
       "0    1           443    SỬ DỤNG DỄ DÀNG  RẤT THOẢI MÁI  THƯ GIÃN TỘT ĐỘ   \n",
       "1    2          1030      Sử dụng dễ dãng rất thoải mái thư giãn tột độ   \n",
       "2    3           689          Mình rất thích hasaki va sp tẩy trang này   \n",
       "3    4          2519  Sản phẩm có khả năng làm sạch tốt Lớp trang đi...   \n",
       "4    5           402       Sữa rửa mặt tốt sạch mụn mịn da đáng mua nha   \n",
       "5    7          2517  Sau 77 49 dòng srm  thì chân ái là đây  mua tu...   \n",
       "6    8          1750  Đó giờ mình sài bha của obagi cũng 34 chai rồi...   \n",
       "7    9          3394                         Rất ok mình xài 2 chai rồi   \n",
       "8   10          1817  Mik bị kich ứng  không hợp sản phẩm  sd được 3...   \n",
       "9   11          3556  nhân viên tư vấn như mới train và được nhận vì...   \n",
       "10  12          2375      Mùi thơm dịu nhe   mát nhanh  thư giãn tột dộ   \n",
       "11  13          2027  Mình khum đánh giá cao cái vụ nâng tông trắng ...   \n",
       "12  14          2928  dù là hay được so sánh với BNBG nhma mình thấy...   \n",
       "13  15          3059  Miếng bông quá mỏng thấm có chút nước tẩy tran...   \n",
       "14  16          1118  Xài tốt  tẩy trang sạch  mình xài thấy thích h...   \n",
       "15  17          2273                               Hơi bết và trắng quá   \n",
       "16  18           736                                       sản phẩm tốt   \n",
       "17  19           731  Mua chai thứ 4 5 gì rồi  đúng kiểu tiền nào củ...   \n",
       "18  20          4234  rít mặt nên đắp xomg phải lau lại rôid dùng dư...   \n",
       "19  21          2696                                        quá ok luôn   \n",
       "\n",
       "   ngay_binh_luan gio_binh_luan  so_sao  ma_san_pham  \\\n",
       "0      29/04/2023         17:06       5    308500015   \n",
       "1      30/04/2023         15:04       5    308500015   \n",
       "2      30/04/2023         18:34       5    422216594   \n",
       "3      17/07/2022         13:48       5    204100075   \n",
       "4      15/04/2023         23:04       5    422208977   \n",
       "5      25/12/2022         17:11       5    204100019   \n",
       "6        9/7/2022          4:34       5    100220035   \n",
       "7        7/7/2022         11:18       5    204100024   \n",
       "8        5/2/2024          3:50       4    422216354   \n",
       "9       12/9/2023         22:33       5    100250032   \n",
       "10     29/04/2023         16:52       5    422205163   \n",
       "11     24/10/2022         18:02       5    249500019   \n",
       "12     27/03/2024         22:14       5    422209718   \n",
       "13     19/12/2020          7:52       2    413400001   \n",
       "14     22/06/2021          9:30       5    422204884   \n",
       "15     17/12/2022         11:20       4    422208183   \n",
       "16      5/12/2022         15:52       5    100230056   \n",
       "17       4/3/2023         19:08       5    100230056   \n",
       "18     17/07/2023         23:05       4    422205637   \n",
       "19     18/08/2019         23:21       5    422203776   \n",
       "\n",
       "                         noi_dung_binh_luan_sau_xu_ly  \n",
       "0                          dễ_dàng thoải_mái thư_giãn  \n",
       "1                             dãng thoải_mái thư_giãn  \n",
       "2                                     thích tẩy_trang  \n",
       "3   khả_năng sạch tốt lớp trang_điểm mắt môi_chóng...  \n",
       "4                        sữa rửa mặt tốt sạch mụn mịn  \n",
       "5   dòng sửa rửa mặt chân_ái tuyp thử ok nhờn khô_...  \n",
       "6   sài bha obagi đổi thử_sài plc hàng kèm quà tặn...  \n",
       "7                                              ok xài  \n",
       "8                                       ứng_không_hợp  \n",
       "9   tư_vấn train đẹp thôi_át dán mụn trả_lời tè_ra...  \n",
       "10                          mùi thơm_dịu mát thư_giãn  \n",
       "11  khum vụ nâng tông trắng lắm chỉnh chống nắng l...  \n",
       "12  sánh bnbg nhma ẩm_không_tốt bnbg tốt tầm_giá d...  \n",
       "13  mỏng thấm tẩy trangtoner nhũn liền mặt tưa đáp...  \n",
       "14  xài tốt_tẩy trang sạch xài thích tẩy_trang lor...  \n",
       "15                                      hơi bết trắng  \n",
       "16                                                tốt  \n",
       "17                kiểu tiền xài ok tẩy_trang hàng hơi  \n",
       "18  rít mặt đắp xomg rôid dưỡng đó_nhiên mask tốt_...  \n",
       "19                                                 ok  "
      ]
     },
     "execution_count": 73,
     "metadata": {},
     "output_type": "execute_result"
    }
   ],
   "source": [
    "data.head(20)"
   ]
  },
  {
   "cell_type": "markdown",
   "metadata": {},
   "source": [
    "#### Ghi dữ liệu đã tiền xử lý ra file"
   ]
  },
  {
   "cell_type": "code",
   "execution_count": 74,
   "metadata": {},
   "outputs": [
    {
     "data": {
      "text/plain": [
       "(22720, 8)"
      ]
     },
     "execution_count": 74,
     "metadata": {},
     "output_type": "execute_result"
    }
   ],
   "source": [
    "data.shape"
   ]
  },
  {
   "cell_type": "code",
   "execution_count": 75,
   "metadata": {},
   "outputs": [],
   "source": [
    "# Ghi DataFrame đã gộp vào file CSV\n",
    "data.to_csv('data/csv/Danh_gia_final.csv', index=False)"
   ]
  },
  {
   "cell_type": "code",
   "execution_count": 38,
   "metadata": {},
   "outputs": [],
   "source": [
    "# Thu được khoảng 23k dòng dữ liệu => khá thành công 😊"
   ]
  }
 ],
 "metadata": {
  "kernelspec": {
   "display_name": "Python 3",
   "language": "python",
   "name": "python3"
  },
  "language_info": {
   "codemirror_mode": {
    "name": "ipython",
    "version": 3
   },
   "file_extension": ".py",
   "mimetype": "text/x-python",
   "name": "python",
   "nbconvert_exporter": "python",
   "pygments_lexer": "ipython3",
   "version": "3.10.11"
  }
 },
 "nbformat": 4,
 "nbformat_minor": 2
}
